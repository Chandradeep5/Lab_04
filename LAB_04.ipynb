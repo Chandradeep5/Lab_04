{
 "cells": [
  {
   "cell_type": "code",
   "execution_count": 1,
   "id": "ad6ae239",
   "metadata": {},
   "outputs": [
    {
     "name": "stdout",
     "output_type": "stream",
     "text": [
      "The root node feature selected is: student_yes\n"
     ]
    }
   ],
   "source": [
    "import pandas as pd\n",
    "import numpy as np\n",
    "from sklearn.tree import DecisionTreeClassifier\n",
    "from sklearn.feature_selection import mutual_info_classif\n",
    "\n",
    " \n",
    "\n",
    "# Sample data table (you should replace this with your own data)\n",
    "data = pd.DataFrame({\n",
    "    'age': ['<=30', '<=30', '31-40', '>40', '>40', '>40', '31-40', '<=30', '<=30', '>40', '<=30', '31-40', '31-40', '>40'],\n",
    "    'income': ['high', 'high', 'high', 'medium', 'low', 'low', 'low', 'medium', 'low', 'medium', 'medium', 'medium', 'high', 'medium'],\n",
    "    'student': ['no', 'no', 'no', 'no', 'yes', 'yes', 'yes', 'no', 'yes', 'yes', 'yes', 'no', 'yes', 'no'],\n",
    "    'credit_rating': ['fair', 'excellent', 'fair', 'fair', 'fair', 'excellent', 'excellent', 'fair', 'fair', 'fair', 'excellent', 'excellent', 'fair', 'excellent'],\n",
    "    'buys_computer': ['no', 'no', 'yes', 'yes', 'yes', 'no', 'yes', 'no', 'yes', 'yes', 'yes', 'yes', 'yes', 'no']\n",
    "})\n",
    "\n",
    " \n",
    "\n",
    "# Convert categorical data to numerical using one-hot encoding\n",
    "data = pd.get_dummies(data, drop_first=True)\n",
    "\n",
    " \n",
    "\n",
    "# Split data into features and target variable\n",
    "X = data.drop('buys_computer_yes', axis=1)\n",
    "y = data['buys_computer_yes']\n",
    "\n",
    " \n",
    "\n",
    "# Calculate Information Gain for each feature\n",
    "information_gain = mutual_info_classif(X, y)\n",
    "\n",
    " \n",
    "\n",
    "# Find the feature with the highest Information Gain\n",
    "root_node_feature_index = np.argmax(information_gain)\n",
    "root_node_feature_name = X.columns[root_node_feature_index]\n",
    "\n",
    " \n",
    "\n",
    "print(f\"The root node feature selected is: {root_node_feature_name}\")"
   ]
  },
  {
   "cell_type": "code",
   "execution_count": null,
   "id": "358220c0",
   "metadata": {},
   "outputs": [],
   "source": []
  },
  {
   "cell_type": "code",
   "execution_count": null,
   "id": "9f92f531",
   "metadata": {},
   "outputs": [],
   "source": []
  }
 ],
 "metadata": {
  "kernelspec": {
   "display_name": "Python 3 (ipykernel)",
   "language": "python",
   "name": "python3"
  },
  "language_info": {
   "codemirror_mode": {
    "name": "ipython",
    "version": 3
   },
   "file_extension": ".py",
   "mimetype": "text/x-python",
   "name": "python",
   "nbconvert_exporter": "python",
   "pygments_lexer": "ipython3",
   "version": "3.11.4"
  }
 },
 "nbformat": 4,
 "nbformat_minor": 5
}
